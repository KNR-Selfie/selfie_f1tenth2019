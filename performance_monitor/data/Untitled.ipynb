{
 "cells": [
  {
   "cell_type": "code",
   "execution_count": 144,
   "metadata": {},
   "outputs": [
    {
     "data": {
      "text/html": [
       "<div>\n",
       "<style scoped>\n",
       "    .dataframe tbody tr th:only-of-type {\n",
       "        vertical-align: middle;\n",
       "    }\n",
       "\n",
       "    .dataframe tbody tr th {\n",
       "        vertical-align: top;\n",
       "    }\n",
       "\n",
       "    .dataframe thead th {\n",
       "        text-align: right;\n",
       "    }\n",
       "</style>\n",
       "<table border=\"1\" class=\"dataframe\">\n",
       "  <thead>\n",
       "    <tr style=\"text-align: right;\">\n",
       "      <th></th>\n",
       "      <th>steering_angle</th>\n",
       "      <th>d[cm]</th>\n",
       "      <th>kafelki</th>\n",
       "      <th>reszta</th>\n",
       "      <th>Unnamed: 4</th>\n",
       "      <th>Unnamed: 5</th>\n",
       "    </tr>\n",
       "  </thead>\n",
       "  <tbody>\n",
       "    <tr>\n",
       "      <td>0</td>\n",
       "      <td>-0.100</td>\n",
       "      <td>-821.5</td>\n",
       "      <td>27</td>\n",
       "      <td>11.5</td>\n",
       "      <td>NaN</td>\n",
       "      <td>NaN</td>\n",
       "    </tr>\n",
       "    <tr>\n",
       "      <td>1</td>\n",
       "      <td>-0.125</td>\n",
       "      <td>-684.0</td>\n",
       "      <td>22</td>\n",
       "      <td>24.0</td>\n",
       "      <td>NaN</td>\n",
       "      <td>NaN</td>\n",
       "    </tr>\n",
       "    <tr>\n",
       "      <td>2</td>\n",
       "      <td>-0.150</td>\n",
       "      <td>-573.0</td>\n",
       "      <td>19</td>\n",
       "      <td>3.0</td>\n",
       "      <td>NaN</td>\n",
       "      <td>NaN</td>\n",
       "    </tr>\n",
       "    <tr>\n",
       "      <td>3</td>\n",
       "      <td>-0.200</td>\n",
       "      <td>-419.0</td>\n",
       "      <td>14</td>\n",
       "      <td>-1.0</td>\n",
       "      <td>NaN</td>\n",
       "      <td>NaN</td>\n",
       "    </tr>\n",
       "    <tr>\n",
       "      <td>4</td>\n",
       "      <td>-0.250</td>\n",
       "      <td>-338.0</td>\n",
       "      <td>11</td>\n",
       "      <td>8.0</td>\n",
       "      <td>NaN</td>\n",
       "      <td>NaN</td>\n",
       "    </tr>\n",
       "    <tr>\n",
       "      <td>5</td>\n",
       "      <td>-0.300</td>\n",
       "      <td>-280.5</td>\n",
       "      <td>9</td>\n",
       "      <td>10.5</td>\n",
       "      <td>NaN</td>\n",
       "      <td>NaN</td>\n",
       "    </tr>\n",
       "    <tr>\n",
       "      <td>6</td>\n",
       "      <td>-0.350</td>\n",
       "      <td>-241.5</td>\n",
       "      <td>8</td>\n",
       "      <td>1.5</td>\n",
       "      <td>NaN</td>\n",
       "      <td>NaN</td>\n",
       "    </tr>\n",
       "    <tr>\n",
       "      <td>7</td>\n",
       "      <td>-0.400</td>\n",
       "      <td>-208.0</td>\n",
       "      <td>7</td>\n",
       "      <td>-2.0</td>\n",
       "      <td>NaN</td>\n",
       "      <td>NaN</td>\n",
       "    </tr>\n",
       "    <tr>\n",
       "      <td>8</td>\n",
       "      <td>-0.450</td>\n",
       "      <td>-181.5</td>\n",
       "      <td>6</td>\n",
       "      <td>1.5</td>\n",
       "      <td>NaN</td>\n",
       "      <td>NaN</td>\n",
       "    </tr>\n",
       "    <tr>\n",
       "      <td>9</td>\n",
       "      <td>-0.550</td>\n",
       "      <td>-143.5</td>\n",
       "      <td>5</td>\n",
       "      <td>-6.5</td>\n",
       "      <td>NaN</td>\n",
       "      <td>NaN</td>\n",
       "    </tr>\n",
       "    <tr>\n",
       "      <td>10</td>\n",
       "      <td>0.100</td>\n",
       "      <td>890.0</td>\n",
       "      <td>29</td>\n",
       "      <td>20.0</td>\n",
       "      <td>NaN</td>\n",
       "      <td>NaN</td>\n",
       "    </tr>\n",
       "    <tr>\n",
       "      <td>11</td>\n",
       "      <td>0.125</td>\n",
       "      <td>720.0</td>\n",
       "      <td>24</td>\n",
       "      <td>0.0</td>\n",
       "      <td>NaN</td>\n",
       "      <td>NaN</td>\n",
       "    </tr>\n",
       "    <tr>\n",
       "      <td>12</td>\n",
       "      <td>0.150</td>\n",
       "      <td>576.0</td>\n",
       "      <td>19</td>\n",
       "      <td>6.0</td>\n",
       "      <td>NaN</td>\n",
       "      <td>NaN</td>\n",
       "    </tr>\n",
       "    <tr>\n",
       "      <td>13</td>\n",
       "      <td>0.200</td>\n",
       "      <td>432.0</td>\n",
       "      <td>14</td>\n",
       "      <td>12.0</td>\n",
       "      <td>NaN</td>\n",
       "      <td>NaN</td>\n",
       "    </tr>\n",
       "    <tr>\n",
       "      <td>14</td>\n",
       "      <td>0.250</td>\n",
       "      <td>339.0</td>\n",
       "      <td>11</td>\n",
       "      <td>9.0</td>\n",
       "      <td>NaN</td>\n",
       "      <td>kafelka</td>\n",
       "    </tr>\n",
       "    <tr>\n",
       "      <td>15</td>\n",
       "      <td>0.300</td>\n",
       "      <td>282.0</td>\n",
       "      <td>9</td>\n",
       "      <td>12.0</td>\n",
       "      <td>NaN</td>\n",
       "      <td>30</td>\n",
       "    </tr>\n",
       "    <tr>\n",
       "      <td>16</td>\n",
       "      <td>0.350</td>\n",
       "      <td>238.0</td>\n",
       "      <td>7</td>\n",
       "      <td>28.0</td>\n",
       "      <td>NaN</td>\n",
       "      <td>NaN</td>\n",
       "    </tr>\n",
       "    <tr>\n",
       "      <td>17</td>\n",
       "      <td>0.400</td>\n",
       "      <td>208.0</td>\n",
       "      <td>6</td>\n",
       "      <td>28.0</td>\n",
       "      <td>NaN</td>\n",
       "      <td>NaN</td>\n",
       "    </tr>\n",
       "    <tr>\n",
       "      <td>18</td>\n",
       "      <td>0.450</td>\n",
       "      <td>180.0</td>\n",
       "      <td>6</td>\n",
       "      <td>0.0</td>\n",
       "      <td>NaN</td>\n",
       "      <td>NaN</td>\n",
       "    </tr>\n",
       "    <tr>\n",
       "      <td>19</td>\n",
       "      <td>0.500</td>\n",
       "      <td>142.0</td>\n",
       "      <td>4</td>\n",
       "      <td>22.0</td>\n",
       "      <td>NaN</td>\n",
       "      <td>NaN</td>\n",
       "    </tr>\n",
       "  </tbody>\n",
       "</table>\n",
       "</div>"
      ],
      "text/plain": [
       "    steering_angle  d[cm]  kafelki  reszta  Unnamed: 4 Unnamed: 5\n",
       "0           -0.100 -821.5       27    11.5         NaN        NaN\n",
       "1           -0.125 -684.0       22    24.0         NaN        NaN\n",
       "2           -0.150 -573.0       19     3.0         NaN        NaN\n",
       "3           -0.200 -419.0       14    -1.0         NaN        NaN\n",
       "4           -0.250 -338.0       11     8.0         NaN        NaN\n",
       "5           -0.300 -280.5        9    10.5         NaN        NaN\n",
       "6           -0.350 -241.5        8     1.5         NaN        NaN\n",
       "7           -0.400 -208.0        7    -2.0         NaN        NaN\n",
       "8           -0.450 -181.5        6     1.5         NaN        NaN\n",
       "9           -0.550 -143.5        5    -6.5         NaN        NaN\n",
       "10           0.100  890.0       29    20.0         NaN        NaN\n",
       "11           0.125  720.0       24     0.0         NaN        NaN\n",
       "12           0.150  576.0       19     6.0         NaN        NaN\n",
       "13           0.200  432.0       14    12.0         NaN        NaN\n",
       "14           0.250  339.0       11     9.0         NaN    kafelka\n",
       "15           0.300  282.0        9    12.0         NaN         30\n",
       "16           0.350  238.0        7    28.0         NaN        NaN\n",
       "17           0.400  208.0        6    28.0         NaN        NaN\n",
       "18           0.450  180.0        6     0.0         NaN        NaN\n",
       "19           0.500  142.0        4    22.0         NaN        NaN"
      ]
     },
     "execution_count": 144,
     "metadata": {},
     "output_type": "execute_result"
    }
   ],
   "source": [
    "import os\n",
    "import numpy as np\n",
    "import pandas as pd\n",
    "import matplotlib.pyplot as plt\n",
    "\n",
    "dirPath = os.path.abspath(os.path.dirname(''))\n",
    "data_file='wyznaczanie_f(s) - Arkusz1.csv'\n",
    "with open(os.path.join(dirPath, data_file), 'r') as file:\n",
    "    data = pd.read_csv(file, dtype={'steering_angle':np.float64, 'd[cm]':np.float64}, decimal=',')\n",
    "    \n",
    "L = 33 #meters\n",
    "steering_angle = data['steering_angle'].dropna()\n",
    "d = data['d[cm]'].dropna()\n",
    "\n",
    "delta_measured = np.arctan((2*L)/d)\n",
    "data"
   ]
  },
  {
   "cell_type": "code",
   "execution_count": 166,
   "metadata": {
    "scrolled": true
   },
   "outputs": [
    {
     "data": {
      "image/png": "[encoded data removed]",
      "text/plain": [
       "<Figure size 432x288 with 1 Axes>"
      ]
     },
     "metadata": {
      "needs_background": "light"
     },
     "output_type": "display_data"
    }
   ],
   "source": [
    "plt.scatter(steering_angle, delta_measured)\n",
    "plt.xlabel('steering_angle')\n",
    "plt.ylabel('delta_measured')\n",
    "plt.grid('true')\n",
    "path = '/home/marcel/catkin_ws/src/dynamic-model-car-simulator/angle_data.csv'\n",
    "\n",
    "import csv\n",
    "with open(path, 'w+') as file:\n",
    "    csv_writer = csv.writer(file, delimiter=',')\n",
    "    csv_writer.writerow(['steering_angle', 'delta_measured'])\n",
    "    for (angle, measured) in zip(steering_angle, delta_measured):\n",
    "        csv_writer.writerow([angle, measured])\n"
   ]
  },
  {
   "cell_type": "code",
   "execution_count": 165,
   "metadata": {},
   "outputs": [
    {
     "data": {
      "text/plain": [
       "array(-0.39103436)"
      ]
     },
     "execution_count": 165,
     "metadata": {},
     "output_type": "execute_result"
    }
   ],
   "source": [
    "[delta_measured, steering_angle]\n",
    "from scipy import interpolate\n",
    "\n",
    "y = steering_angle\n",
    "x = delta_measured\n",
    "f = interpolate.interp1d(x, y)\n",
    "\n",
    "xnew = np.arange(-0.4, 0.4 , 0.01)\n",
    "ynew = f(-0.3)   # use interpolation function returned by `interp1d`\n",
    "#plt.plot(x, y, 'o', xnew, ynew, '-')\n",
    "#plt.show()\n",
    "ynew\n"
   ]
  },
  {
   "cell_type": "code",
   "execution_count": 177,
   "metadata": {},
   "outputs": [
    {
     "data": {
      "image/png": "[encoded data removed]",
      "text/plain": [
       "<Figure size 1440x720 with 1 Axes>"
      ]
     },
     "metadata": {
      "needs_background": "light"
     },
     "output_type": "display_data"
    }
   ],
   "source": [
    "\n",
    "file_name = 'speed_data.csv'\n",
    "with open('/home/marcel/catkin_ws/src/performance_monitor/scripts/speed_data.csv', 'r') as file:\n",
    "    data = pd.read_csv(file)\n",
    "\n",
    "speed = data['speed']\n",
    "t = data['time']\n",
    "plt.figure(figsize=(20,10))\n",
    "plt.plot(t, speed)\n",
    "plt.grid('true')"
   ]
  },
  {
   "cell_type": "code",
   "execution_count": 210,
   "metadata": {},
   "outputs": [
    {
     "data": {
      "text/html": [
       "<div>\n",
       "<style scoped>\n",
       "    .dataframe tbody tr th:only-of-type {\n",
       "        vertical-align: middle;\n",
       "    }\n",
       "\n",
       "    .dataframe tbody tr th {\n",
       "        vertical-align: top;\n",
       "    }\n",
       "\n",
       "    .dataframe thead th {\n",
       "        text-align: right;\n",
       "    }\n",
       "</style>\n",
       "<table border=\"1\" class=\"dataframe\">\n",
       "  <thead>\n",
       "    <tr style=\"text-align: right;\">\n",
       "      <th></th>\n",
       "      <th>t[s]</th>\n",
       "      <th>delta</th>\n",
       "      <th>speed</th>\n",
       "      <th>speed_measured</th>\n",
       "    </tr>\n",
       "  </thead>\n",
       "  <tbody>\n",
       "    <tr>\n",
       "      <td>0</td>\n",
       "      <td>5.66</td>\n",
       "      <td>0.40</td>\n",
       "      <td>1</td>\n",
       "      <td>86.646169</td>\n",
       "    </tr>\n",
       "    <tr>\n",
       "      <td>1</td>\n",
       "      <td>6.00</td>\n",
       "      <td>0.35</td>\n",
       "      <td>1</td>\n",
       "      <td>94.670744</td>\n",
       "    </tr>\n",
       "    <tr>\n",
       "      <td>2</td>\n",
       "      <td>7.05</td>\n",
       "      <td>0.30</td>\n",
       "      <td>1</td>\n",
       "      <td>95.076651</td>\n",
       "    </tr>\n",
       "    <tr>\n",
       "      <td>3</td>\n",
       "      <td>8.31</td>\n",
       "      <td>0.25</td>\n",
       "      <td>1</td>\n",
       "      <td>97.717121</td>\n",
       "    </tr>\n",
       "    <tr>\n",
       "      <td>4</td>\n",
       "      <td>10.33</td>\n",
       "      <td>0.20</td>\n",
       "      <td>1</td>\n",
       "      <td>99.018932</td>\n",
       "    </tr>\n",
       "    <tr>\n",
       "      <td>5</td>\n",
       "      <td>13.80</td>\n",
       "      <td>0.15</td>\n",
       "      <td>1</td>\n",
       "      <td>99.414343</td>\n",
       "    </tr>\n",
       "  </tbody>\n",
       "</table>\n",
       "</div>"
      ],
      "text/plain": [
       "    t[s]  delta  speed  speed_measured\n",
       "0   5.66   0.40      1       86.646169\n",
       "1   6.00   0.35      1       94.670744\n",
       "2   7.05   0.30      1       95.076651\n",
       "3   8.31   0.25      1       97.717121\n",
       "4  10.33   0.20      1       99.018932\n",
       "5  13.80   0.15      1       99.414343"
      ]
     },
     "execution_count": 210,
     "metadata": {},
     "output_type": "execute_result"
    }
   ],
   "source": [
    "##speed turn measurements\n",
    "data_file='speed_turn_measurements - Arkusz1.csv'\n",
    "with open(os.path.join(dirPath, data_file), 'r') as file:\n",
    "    data = pd.read_csv(file, dtype={'t[s]':np.float64, 'delta':np.float64}, decimal=',')\n",
    "    \n",
    "L = 33 #cm\n",
    "steering_angle = data['delta']\n",
    "time = data['t[s]']\n",
    "S = [2*np.pi*L/np.tan(delta) for delta in steering_angle]\n",
    "\n",
    "speed_file = 'speed_angle_ratio_data.csv'\n",
    "\n",
    "\n",
    "delta_measured = np.arctan((2*L)/d)\n",
    "data['speed_measured'] = S/data['t[s]']\n",
    "\n",
    "speed_data = pd.DataFrame()\n",
    "speed_data['delta'] = data['delta']\n",
    "speed_data['speed_measured'] = data['speed_measured']/100\n",
    "\n",
    "with open(os.path.join(dirPath, speed_file), 'w+') as file:\n",
    "    speed_data.to_csv(file)\n",
    "\n",
    "data"
   ]
  },
  {
   "cell_type": "code",
   "execution_count": 191,
   "metadata": {},
   "outputs": [
    {
     "data": {
      "text/plain": [
       "Text(0, 0.5, 'speed_measured')"
      ]
     },
     "execution_count": 191,
     "metadata": {},
     "output_type": "execute_result"
    },
    {
     "data": {
      "image/png": "[encoded data removed]",
      "text/plain": [
       "<Figure size 432x288 with 1 Axes>"
      ]
     },
     "metadata": {
      "needs_background": "light"
     },
     "output_type": "display_data"
    }
   ],
   "source": [
    "plt.scatter(data['delta'], data['speed_measured'])\n",
    "plt.xlabel('delta')\n",
    "plt.ylabel('speed_measured')"
   ]
  },
  {
   "cell_type": "code",
   "execution_count": 205,
   "metadata": {},
   "outputs": [
    {
     "data": {
      "text/plain": [
       "Text(0, 0.5, '')"
      ]
     },
     "execution_count": 205,
     "metadata": {},
     "output_type": "execute_result"
    },
    {
     "data": {
      "image/png": "[encoded data removed]",
      "text/plain": [
       "<Figure size 432x288 with 1 Axes>"
      ]
     },
     "metadata": {
      "needs_background": "light"
     },
     "output_type": "display_data"
    }
   ],
   "source": [
    "from scipy import interpolate\n",
    "\n",
    "stm_speed = np.linspace(0, 4, num=10)\n",
    "stm_2_real_speed_ratio = data['speed_measured']/100\n",
    "f = interpolate.interp1d(data['delta'], stm_2_real_speed_ratio, fill_value='extrapolate')\n",
    "stm_2_real_speed_ratio\n",
    "plt.scatter(data['delta'], f(data['delta']))\n",
    "plt.xlabel('')\n",
    "plt.ylabel('')"
   ]
  }
 ],
 "metadata": {
  "kernelspec": {
   "display_name": "Python 3",
   "language": "python",
   "name": "python3"
  },
  "language_info": {
   "codemirror_mode": {
    "name": "ipython",
    "version": 3
   },
   "file_extension": ".py",
   "mimetype": "text/x-python",
   "name": "python",
   "nbconvert_exporter": "python",
   "pygments_lexer": "ipython3",
   "version": "3.7.4"
  }
 },
 "nbformat": 4,
 "nbformat_minor": 2
}
